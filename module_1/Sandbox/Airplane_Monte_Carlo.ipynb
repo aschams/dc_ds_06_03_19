{
 "cells": [
  {
   "cell_type": "code",
   "execution_count": 1,
   "metadata": {},
   "outputs": [],
   "source": [
    "import numpy as np"
   ]
  },
  {
   "cell_type": "code",
   "execution_count": 33,
   "metadata": {},
   "outputs": [],
   "source": [
    "passengers = np.arange(4)\n",
    "assigned_seats = np.arange(4)\n",
    "np.random.shuffle(assigned_seats)"
   ]
  },
  {
   "cell_type": "code",
   "execution_count": null,
   "metadata": {},
   "outputs": [],
   "source": [
    "x = np.random.random(10)\n",
    "print (x)\n",
    "[i for i, x in enumerate(x) if x > 0.5]"
   ]
  },
  {
   "cell_type": "code",
   "execution_count": 125,
   "metadata": {},
   "outputs": [],
   "source": [
    "def assign_seat(seating_chart, assigned_seat):\n",
    "    open_seats = [i for i, q in enumerate(seating_chart) if q == 0]\n",
    "    if assigned_seat in open_seats: seating_chart[assigned_seat] = 1\n",
    "    else: \n",
    "        randomly_assigned_seat = open_seats[np.random.randint(0, len(open_seats))]\n",
    "        seating_chart[randomly_assigned_seat] = 1\n",
    "    return seating_chart"
   ]
  },
  {
   "cell_type": "code",
   "execution_count": 179,
   "metadata": {},
   "outputs": [
    {
     "name": "stdout",
     "output_type": "stream",
     "text": [
      "0.4986\n"
     ]
    }
   ],
   "source": [
    "def airplane_sim(sims=100, n=10):\n",
    "    lggas = 0 # last guy gets assigned seat\n",
    "    for j in range(sims):\n",
    "        passengers = np.arange(n)\n",
    "        assigned_seats = np.arange(n)\n",
    "        np.random.shuffle(assigned_seats)\n",
    "        taken_seats = np.zeros(n)\n",
    "        for i in passengers:\n",
    "            if i == 0:\n",
    "                taken_seats[np.random.randint(0, n)] = 1\n",
    "            elif i == n - 1:\n",
    "                if taken_seats[assigned_seats[i]] == 0: \n",
    "                    lggas += 1\n",
    "            else:\n",
    "                taken_seats = assign_seat(taken_seats, assigned_seats[i])\n",
    "    return(lggas / sims)\n"
   ]
  },
  {
   "cell_type": "code",
   "execution_count": 686,
   "metadata": {},
   "outputs": [],
   "source": [
    "def airplane_sim2(n_passengers=100, n_planes=100):\n",
    "    # Once someone is assigned 0, every subsequent person will then take their own seat.\n",
    "    x = np.arange(n_passengers)\n",
    "    y = np.repeat(x, n_planes, axis = 0)\n",
    "    y = y.reshape((n_passengers, n_planes))\n",
    "    y[0,:] = np.random.randint(n_passengers, size=n_planes)\n",
    "    for p in range(1, n_passengers):\n",
    "        q = np.where(y[:p] == p)[1]\n",
    "        y[p,q] = np.random.randint(p+1, n_passengers+1, size=len(q)) % n_passengers\n",
    "    lggas = y[n_passengers - 1,:].astype(bool).sum()\n",
    "    return lggas / n_planes\n"
   ]
  },
  {
   "cell_type": "code",
   "execution_count": 554,
   "metadata": {},
   "outputs": [],
   "source": [
    "def airplane_sim3(n_passengers=100):\n",
    "    x = np.arange(n_passengers)\n",
    "    x[0] = np.random.randint(n_passengers)\n",
    "    for p in range(1, n_passengers):\n",
    "        if p in x[:p]:\n",
    "            x[p] = np.random.randint(p+1, n_passengers+1) % n_passengers\n",
    "    lggas = x[n_passengers - 1].astype(bool).sum()\n",
    "    return lggas"
   ]
  },
  {
   "cell_type": "code",
   "execution_count": 753,
   "metadata": {},
   "outputs": [
    {
     "name": "stdout",
     "output_type": "stream",
     "text": [
      "305 µs ± 8.98 µs per loop (mean ± std. dev. of 7 runs, 1000 loops each)\n"
     ]
    }
   ],
   "source": [
    "%%timeit -n1000\n",
    "airplane_sim3(100)\n",
    "# tot = 0\n",
    "# for i in range(10000):\n",
    "#     tot += airplane_sim3(100)\n",
    "# tot / 10000"
   ]
  },
  {
   "cell_type": "code",
   "execution_count": 533,
   "metadata": {},
   "outputs": [
    {
     "name": "stdout",
     "output_type": "stream",
     "text": [
      "[0 1 2 3 4]\n"
     ]
    },
    {
     "data": {
      "text/plain": [
       "array([0, 1, 2, 3, 4])"
      ]
     },
     "execution_count": 533,
     "metadata": {},
     "output_type": "execute_result"
    }
   ],
   "source": [
    "n_passengers = 5\n",
    "x = np.arange(n_passengers)\n",
    "x[0] = np.random.randint(n_passengers)\n",
    "print(x)\n",
    "for p in range(1, n_passengers):\n",
    "    if p in x[:p]:\n",
    "        x[p] = np.random.randint(p+1, n_passengers+1) % n_passengers\n",
    "x"
   ]
  },
  {
   "cell_type": "code",
   "execution_count": 555,
   "metadata": {},
   "outputs": [
    {
     "name": "stdout",
     "output_type": "stream",
     "text": [
      "13.8 ms ± 210 µs per loop (mean ± std. dev. of 7 runs, 100 loops each)\n",
      "291 µs ± 7.83 µs per loop (mean ± std. dev. of 7 runs, 1000 loops each)\n"
     ]
    }
   ],
   "source": [
    "%timeit airplane_sim2(100, 1000)\n",
    "%timeit -n1000 airplane_sim3(100)"
   ]
  },
  {
   "cell_type": "code",
   "execution_count": 218,
   "metadata": {},
   "outputs": [],
   "source": [
    "x = np.arange(5)\n",
    "y = np.repeat(x, 5, axis = 0)\n",
    "y = y.reshape((5, y.shape[0] // 5))"
   ]
  },
  {
   "cell_type": "code",
   "execution_count": 240,
   "metadata": {},
   "outputs": [
    {
     "data": {
      "text/plain": [
       "array([[0, 0, 0, 0, 0],\n",
       "       [1, 1, 1, 1, 1],\n",
       "       [2, 2, 2, 2, 2],\n",
       "       [3, 3, 3, 3, 3],\n",
       "       [4, 4, 4, 4, 4]])"
      ]
     },
     "execution_count": 240,
     "metadata": {},
     "output_type": "execute_result"
    }
   ],
   "source": [
    "y"
   ]
  },
  {
   "cell_type": "code",
   "execution_count": 388,
   "metadata": {},
   "outputs": [],
   "source": [
    "y2 = y.copy()\n",
    "y2[0,:] = np.random.randint(5, size=5)"
   ]
  },
  {
   "cell_type": "code",
   "execution_count": 383,
   "metadata": {},
   "outputs": [
    {
     "data": {
      "text/plain": [
       "array([[2, 1, 4, 1, 4],\n",
       "       [1, 1, 1, 1, 1],\n",
       "       [2, 2, 2, 2, 2],\n",
       "       [3, 3, 3, 3, 3],\n",
       "       [4, 4, 4, 4, 4]])"
      ]
     },
     "execution_count": 383,
     "metadata": {},
     "output_type": "execute_result"
    }
   ],
   "source": [
    "y2"
   ]
  },
  {
   "cell_type": "code",
   "execution_count": 298,
   "metadata": {},
   "outputs": [
    {
     "data": {
      "text/plain": [
       "array([[False, False, False, False,  True]])"
      ]
     },
     "execution_count": 298,
     "metadata": {},
     "output_type": "execute_result"
    }
   ],
   "source": [
    "y2[:1] == 1"
   ]
  },
  {
   "cell_type": "code",
   "execution_count": 332,
   "metadata": {},
   "outputs": [
    {
     "name": "stdout",
     "output_type": "stream",
     "text": [
      "1\n",
      "[[0 5 4 0 1]\n",
      " [1 1 1 1 1]]\n",
      "2\n",
      "[[0 2 4 0 1]\n",
      " [1 1 1 1 1]\n",
      " [2 2 2 2 2]]\n",
      "3\n",
      "[[0 2 4 0 1]\n",
      " [1 1 1 1 1]\n",
      " [2 2 2 2 2]\n",
      " [3 3 3 3 3]]\n",
      "4\n",
      "[[0 2 4 0 1]\n",
      " [1 1 1 1 1]\n",
      " [2 2 2 2 2]\n",
      " [3 3 3 3 3]\n",
      " [4 4 4 4 4]]\n"
     ]
    }
   ],
   "source": [
    "for p in range(1, 5):\n",
    "    print(p)\n",
    "    print(np.where(y2[:p+1] == p+1,np.random.randint(p,6), y2[:p+1]))"
   ]
  },
  {
   "cell_type": "code",
   "execution_count": 345,
   "metadata": {},
   "outputs": [
    {
     "name": "stdout",
     "output_type": "stream",
     "text": [
      "[[3 1 3 4 1]\n",
      " [1 1 1 1 1]\n",
      " [2 2 2 2 2]\n",
      " [3 3 3 3 3]\n",
      " [4 4 4 4 4]]\n",
      "[1 2 1 1 2]\n",
      "[2 3 2 2 3]\n",
      "[3 3 3 3 3]\n",
      "[4 4 4 4 4]\n"
     ]
    }
   ],
   "source": [
    "y2 = y.copy()\n",
    "y2[0,:] = np.random.randint(5, size=5)\n",
    "print(y2)\n",
    "for p in range(1, 5):\n",
    "    taken = y2[:p] == p\n",
    "    assigned=np.where(taken.sum(axis=0), np.random.randint(p,5),p)\n",
    "    print(assigned)\n",
    "    y2[:p] = assigned"
   ]
  },
  {
   "cell_type": "code",
   "execution_count": 365,
   "metadata": {},
   "outputs": [
    {
     "data": {
      "text/plain": [
       "array([[0, 3, 4, 0, 0],\n",
       "       [1, 1, 1, 1, 1],\n",
       "       [2, 2, 2, 2, 2],\n",
       "       [3, 3, 3, 3, 3],\n",
       "       [4, 4, 4, 4, 4]])"
      ]
     },
     "execution_count": 365,
     "metadata": {},
     "output_type": "execute_result"
    }
   ],
   "source": [
    "y2"
   ]
  },
  {
   "cell_type": "code",
   "execution_count": 391,
   "metadata": {},
   "outputs": [
    {
     "data": {
      "text/plain": [
       "array([[2, 2, 0, 4, 4],\n",
       "       [1, 1, 1, 1, 1],\n",
       "       [4, 4, 2, 2, 2],\n",
       "       [3, 3, 3, 3, 3],\n",
       "       [4, 4, 4, 4, 4]])"
      ]
     },
     "execution_count": 391,
     "metadata": {},
     "output_type": "execute_result"
    }
   ],
   "source": [
    "p=4\n",
    "y2[p,np.where(y2[:p] == p)[1]] = np.random.randint(p+1, 5)\n",
    "y2"
   ]
  },
  {
   "cell_type": "code",
   "execution_count": 415,
   "metadata": {},
   "outputs": [
    {
     "data": {
      "text/plain": [
       "3"
      ]
     },
     "execution_count": 415,
     "metadata": {},
     "output_type": "execute_result"
    }
   ],
   "source": [
    "y2 = y.copy()\n",
    "y2[0,:] = np.random.randint(5, size=5)\n",
    "for p in range(1, 4):\n",
    "    y2[p,np.where(y2[:p] == p)[1]] = np.random.randint(p+1, 6)%5\n",
    "(1 - np.sum(y2[:4]==4, axis = 0)).sum()"
   ]
  },
  {
   "cell_type": "code",
   "execution_count": 473,
   "metadata": {},
   "outputs": [
    {
     "data": {
      "text/plain": [
       "array([1, 2])"
      ]
     },
     "execution_count": 473,
     "metadata": {},
     "output_type": "execute_result"
    }
   ],
   "source": [
    "np.where(y2[:p] == p)[1]"
   ]
  },
  {
   "cell_type": "code",
   "execution_count": 486,
   "metadata": {},
   "outputs": [],
   "source": [
    "y3 = airplane_sim2(5,10)"
   ]
  },
  {
   "cell_type": "code",
   "execution_count": 487,
   "metadata": {},
   "outputs": [
    {
     "data": {
      "text/plain": [
       "5"
      ]
     },
     "execution_count": 487,
     "metadata": {},
     "output_type": "execute_result"
    }
   ],
   "source": [
    "y3"
   ]
  },
  {
   "cell_type": "code",
   "execution_count": 471,
   "metadata": {},
   "outputs": [
    {
     "data": {
      "text/plain": [
       "array([[False,  True,  True, False, False, False, False,  True,  True,\n",
       "        False]])"
      ]
     },
     "execution_count": 471,
     "metadata": {},
     "output_type": "execute_result"
    }
   ],
   "source": [
    "p=1\n",
    "np.where(y3[:p] == p"
   ]
  },
  {
   "cell_type": "code",
   "execution_count": 336,
   "metadata": {},
   "outputs": [
    {
     "data": {
      "text/plain": [
       "array([0, 0, 0, 0, 4])"
      ]
     },
     "execution_count": 336,
     "metadata": {},
     "output_type": "execute_result"
    }
   ],
   "source": [
    "taken = y2[:1]==1\n",
    "taken\n",
    "taken.sum(axis=0)\n",
    "np.where(taken.sum(axis=0), np.random.randint(2,5),0)"
   ]
  },
  {
   "cell_type": "code",
   "execution_count": 225,
   "metadata": {},
   "outputs": [],
   "source": [
    "shuffle = np.vectorize(np.random.permutation, signature='(n)->(n)')"
   ]
  },
  {
   "cell_type": "code",
   "execution_count": 232,
   "metadata": {},
   "outputs": [
    {
     "data": {
      "text/plain": [
       "array([[1, 4, 3, 0, 3],\n",
       "       [3, 3, 0, 4, 1],\n",
       "       [4, 2, 4, 1, 4],\n",
       "       [0, 1, 1, 3, 2],\n",
       "       [2, 0, 2, 2, 0]])"
      ]
     },
     "execution_count": 232,
     "metadata": {},
     "output_type": "execute_result"
    }
   ],
   "source": [
    "z = shuffle(y.T).T\n",
    "z"
   ]
  },
  {
   "cell_type": "code",
   "execution_count": 238,
   "metadata": {},
   "outputs": [],
   "source": [
    "seats = np.zeros((5,5))\n",
    "seats[0,:] = np.random.randint(5, size = 5)"
   ]
  },
  {
   "cell_type": "code",
   "execution_count": 239,
   "metadata": {},
   "outputs": [
    {
     "data": {
      "text/plain": [
       "array([[1., 4., 3., 4., 0.],\n",
       "       [0., 0., 0., 0., 0.],\n",
       "       [0., 0., 0., 0., 0.],\n",
       "       [0., 0., 0., 0., 0.],\n",
       "       [0., 0., 0., 0., 0.]])"
      ]
     },
     "execution_count": 239,
     "metadata": {},
     "output_type": "execute_result"
    }
   ],
   "source": [
    "seats"
   ]
  },
  {
   "cell_type": "code",
   "execution_count": 230,
   "metadata": {
    "scrolled": true
   },
   "outputs": [
    {
     "data": {
      "text/plain": [
       "array([[1, 1, 2, 3, 2],\n",
       "       [0, 0, 4, 2, 3],\n",
       "       [4, 3, 1, 4, 0],\n",
       "       [3, 2, 0, 0, 1],\n",
       "       [2, 4, 3, 1, 4]])"
      ]
     },
     "execution_count": 230,
     "metadata": {},
     "output_type": "execute_result"
    }
   ],
   "source": [
    "def airplane_sim2(sims=5, n=5):\n",
    "    lggas = 0 # last guy gets assigned seat\n",
    "    seats = np.zeros((n,sims))\n",
    "    seats[0,:] = np.random.randint(5, size=5)\n",
    "    for p in range(n):\n",
    "        "
   ]
  },
  {
   "cell_type": "code",
   "execution_count": null,
   "metadata": {},
   "outputs": [],
   "source": [
    "airplane_sim2()"
   ]
  },
  {
   "cell_type": "code",
   "execution_count": 156,
   "metadata": {},
   "outputs": [],
   "source": [
    "hats = np.arange(100)\n",
    "np.random.shuffle(hats)"
   ]
  },
  {
   "cell_type": "code",
   "execution_count": 132,
   "metadata": {},
   "outputs": [
    {
     "data": {
      "text/plain": [
       "array([ 4, 13, 22,  2, 61, 93, 38, 79, 52,  7, 39, 35, 57, 71, 15, 32, 70,\n",
       "       43, 31, 92, 96, 68, 48,  0, 49, 51, 17, 53, 84, 50, 54, 14, 72, 91,\n",
       "       33, 90, 75,  6, 12, 55, 44, 74, 46, 30,  1, 20, 85,  8, 42, 63, 27,\n",
       "       95, 65, 86, 36, 37, 59, 83, 29, 67, 81, 87, 78, 41, 10, 11, 58, 99,\n",
       "        9, 25, 23,  5, 18, 56, 28, 94, 97, 62, 77, 69, 24, 73, 80, 21, 89,\n",
       "       88,  3, 66, 16, 76, 47, 82, 64, 19, 60, 98, 45, 26, 34, 40])"
      ]
     },
     "execution_count": 132,
     "metadata": {},
     "output_type": "execute_result"
    }
   ],
   "source": [
    "hats"
   ]
  },
  {
   "cell_type": "code",
   "execution_count": 159,
   "metadata": {},
   "outputs": [
    {
     "data": {
      "text/plain": [
       "True"
      ]
     },
     "execution_count": 159,
     "metadata": {},
     "output_type": "execute_result"
    }
   ],
   "source": [
    "hats = np.arange(100)\n",
    "np.random.shuffle(hats)\n",
    "any(np.equal(hats, np.arange(100)))"
   ]
  },
  {
   "cell_type": "code",
   "execution_count": 177,
   "metadata": {},
   "outputs": [],
   "source": [
    "def hats_sim(sims = 100, n = 10):\n",
    "    num = 0\n",
    "    for i in range(sims):\n",
    "        hats=np.arange(n)\n",
    "        np.random.shuffle(hats)\n",
    "        num += any(np.equal(hats, np.arange(n)))\n",
    "    return 1 - num/sims"
   ]
  },
  {
   "cell_type": "code",
   "execution_count": null,
   "metadata": {},
   "outputs": [],
   "source": []
  },
  {
   "cell_type": "code",
   "execution_count": 762,
   "metadata": {},
   "outputs": [
    {
     "name": "stdout",
     "output_type": "stream",
     "text": [
      "[499500 499500 499500 499500 499500 499500 499500 499500 499500 499500\n",
      " 499500 499500 499500 499500 499500 499500 499500 499500 499500 499500\n",
      " 499500 499500 499500 499500 499500 499500 499500 499500 499500 499500\n",
      " 499500 499500 499500 499500 499500 499500 499500 499500 499500 499500\n",
      " 499500 499500 499500 499500 499500 499500 499500 499500 499500 499500\n",
      " 499500 499500 499500 499500 499500 499500 499500 499500 499500 499500\n",
      " 499500 499500 499500 499500 499500 499500 499500 499500 499500 499500\n",
      " 499500 499500 499500 499500 499500 499500 499500 499500 499500 499500\n",
      " 499500 499500 499500 499500 499500 499500 499500 499500 499500 499500\n",
      " 499500 499500 499500 499500 499500 499500 499500 499500 499500 499500]\n",
      "49\n"
     ]
    }
   ],
   "source": [
    "n_passengers = 1000\n",
    "n_planes = 100\n",
    "x = np.arange(n_passengers)\n",
    "y = np.repeat(x, n_planes, axis = 0)\n",
    "y = y.reshape((n_passengers, n_planes))\n",
    "y[0,:] = np.random.randint(n_passengers, size=n_planes)\n",
    "for p in range(1, n_passengers):\n",
    "    q = np.where(y[:p] == p)[1]\n",
    "    y[p,q] = np.random.randint(p+1, n_passengers+1, size=len(q)) % n_passengers\n",
    "lggas = y[n_passengers - 1,:].astype(bool).sum()\n",
    "print(np.sum(y, axis=0))\n",
    "print(lggas)\n"
   ]
  },
  {
   "cell_type": "code",
   "execution_count": 694,
   "metadata": {},
   "outputs": [
    {
     "data": {
      "text/plain": [
       "0.503"
      ]
     },
     "execution_count": 694,
     "metadata": {},
     "output_type": "execute_result"
    }
   ],
   "source": [
    "airplane_sim2(100,1000)"
   ]
  },
  {
   "cell_type": "code",
   "execution_count": null,
   "metadata": {},
   "outputs": [],
   "source": []
  },
  {
   "cell_type": "code",
   "execution_count": null,
   "metadata": {},
   "outputs": [],
   "source": []
  }
 ],
 "metadata": {
  "kernelspec": {
   "display_name": "Python 3",
   "language": "python",
   "name": "python3"
  },
  "language_info": {
   "codemirror_mode": {
    "name": "ipython",
    "version": 3
   },
   "file_extension": ".py",
   "mimetype": "text/x-python",
   "name": "python",
   "nbconvert_exporter": "python",
   "pygments_lexer": "ipython3",
   "version": "3.6.8"
  }
 },
 "nbformat": 4,
 "nbformat_minor": 2
}
