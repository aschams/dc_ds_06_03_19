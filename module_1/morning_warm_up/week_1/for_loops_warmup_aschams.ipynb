{
 "cells": [
  {
   "cell_type": "markdown",
   "metadata": {},
   "source": [
    "#  For loops and alternatives\n",
    "\n",
    "Given an array of integers, return the index of of the target number - try doing it with a for loop. Notice that the target number can repeat several times.\n",
    "\n",
    "\n",
    "### Example:\n",
    "\n",
    "Given nums = [2, 9, 11, 15], target = 9,\n",
    "\n",
    "Because nums[1] = 9\n",
    "\n",
    "return [1]."
   ]
  },
  {
   "cell_type": "code",
   "execution_count": 8,
   "metadata": {},
   "outputs": [
    {
     "data": {
      "text/plain": [
       "'None'"
      ]
     },
     "execution_count": 8,
     "metadata": {},
     "output_type": "execute_result"
    }
   ],
   "source": [
    "nums = list(range(10)) * 3\n",
    "target = 11\n",
    "targets_indices = []\n",
    "for i in range(len(nums)):\n",
    "    if nums[i] == target: targets_indices.append(i)\n",
    "if targets_indices == []: \n",
    "    targets_indices = 'None'\n",
    "targets_indices"
   ]
  },
  {
   "cell_type": "markdown",
   "metadata": {},
   "source": [
    "# [optional I] - solve with for loops\n",
    "You have an array of integers, return indices of the two numbers such that they add  to a target.\n",
    "Assume that each input would have exactly one solution, and you may not use the same element twice.\n",
    "Given nums = [2, 7, 11, 15], target = 9,\n",
    "\n",
    "### Example \n",
    "Because nums[0] + nums[1] = 2 + 7 = 9,\n",
    "return [0, 1]."
   ]
  },
  {
   "cell_type": "code",
   "execution_count": 2,
   "metadata": {},
   "outputs": [],
   "source": [
    "def sum_two1(nums, target):\n",
    "    sum_indices =[]\n",
    "    for i in range(len(nums)):\n",
    "        for j in range(i+1, len(nums)):\n",
    "            if nums[i] + nums[j] == target:\n",
    "                sum_indices.append(i)\n",
    "                sum_indices.append(j)\n",
    "    return sum_indices\n"
   ]
  },
  {
   "cell_type": "markdown",
   "metadata": {},
   "source": [
    " # [optional II] - solve the same with only one loop and a dictionary"
   ]
  },
  {
   "cell_type": "code",
   "execution_count": 3,
   "metadata": {},
   "outputs": [],
   "source": [
    "def sum_two2(nums, target):\n",
    "    sum_indices = []\n",
    "    num_dict = {}\n",
    "    for i in range(len(nums)):\n",
    "        num_dict[nums[i]] = i\n",
    "        if target - nums[i] in num_dict.keys():\n",
    "            print([i, num_dict[target - nums[i]]])\n",
    "    "
   ]
  },
  {
   "cell_type": "code",
   "execution_count": 9,
   "metadata": {},
   "outputs": [],
   "source": [
    "numbers = list(range(10000))\n",
    "target = 19997"
   ]
  },
  {
   "cell_type": "code",
   "execution_count": 12,
   "metadata": {},
   "outputs": [
    {
     "name": "stdout",
     "output_type": "stream",
     "text": [
      "CPU times: user 5.09 s, sys: 15.9 ms, total: 5.1 s\n",
      "Wall time: 5.11 s\n"
     ]
    },
    {
     "data": {
      "text/plain": [
       "[9998, 9999]"
      ]
     },
     "execution_count": 12,
     "metadata": {},
     "output_type": "execute_result"
    }
   ],
   "source": [
    "%%time \n",
    "sum_two1(numbers, target)"
   ]
  },
  {
   "cell_type": "code",
   "execution_count": 13,
   "metadata": {},
   "outputs": [
    {
     "name": "stdout",
     "output_type": "stream",
     "text": [
      "[9999, 9998]\n",
      "CPU times: user 2.58 ms, sys: 49 µs, total: 2.62 ms\n",
      "Wall time: 2.62 ms\n"
     ]
    }
   ],
   "source": [
    "%%time \n",
    "sum_two2(numbers, target)"
   ]
  },
  {
   "cell_type": "code",
   "execution_count": null,
   "metadata": {},
   "outputs": [],
   "source": []
  }
 ],
 "metadata": {
  "kernelspec": {
   "display_name": "Python 3",
   "language": "python",
   "name": "python3"
  },
  "language_info": {
   "codemirror_mode": {
    "name": "ipython",
    "version": 3
   },
   "file_extension": ".py",
   "mimetype": "text/x-python",
   "name": "python",
   "nbconvert_exporter": "python",
   "pygments_lexer": "ipython3",
   "version": "3.6.8"
  }
 },
 "nbformat": 4,
 "nbformat_minor": 2
}
