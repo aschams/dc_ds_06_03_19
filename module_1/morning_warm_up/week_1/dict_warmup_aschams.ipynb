{
 "cells": [
  {
   "cell_type": "markdown",
   "metadata": {},
   "source": [
    "#### Problem 1"
   ]
  },
  {
   "cell_type": "code",
   "execution_count": 21,
   "metadata": {},
   "outputs": [
    {
     "data": {
      "text/plain": [
       "{'Charles': [68.3, 'Darwin'],\n",
       " 'Alan': [36, 'Turing'],\n",
       " 'Ada': [55, 'Lovelace'],\n",
       " 'Anita': [62, 'Borg'],\n",
       " 'Mark': [67, 'Fox']}"
      ]
     },
     "execution_count": 21,
     "metadata": {},
     "output_type": "execute_result"
    }
   ],
   "source": [
    "cs_people = {'Charles': [68.3, 'Darwin'],\n",
    "             'Alan': [36, 'Turing'],\n",
    "             'Ada': [55, 'Lovelace'],\n",
    "             'Anita': [62, 'Borg'],\n",
    "             'Mark': [67, 'Fox']}\n",
    "cs_people"
   ]
  },
  {
   "cell_type": "markdown",
   "metadata": {},
   "source": [
    "#### Problem 2"
   ]
  },
  {
   "cell_type": "code",
   "execution_count": 22,
   "metadata": {},
   "outputs": [
    {
     "data": {
      "text/plain": [
       "{'Charles': [68.3, 'Darwin'],\n",
       " 'Alan': [36, 'Turing'],\n",
       " 'Ada': [55, 'Lovelace'],\n",
       " 'Anita': [62, 'Borg']}"
      ]
     },
     "execution_count": 22,
     "metadata": {},
     "output_type": "execute_result"
    }
   ],
   "source": [
    "del cs_people['Mark']\n",
    "cs_people"
   ]
  },
  {
   "cell_type": "markdown",
   "metadata": {},
   "source": [
    "#### Problem 3"
   ]
  },
  {
   "cell_type": "code",
   "execution_count": 23,
   "metadata": {},
   "outputs": [
    {
     "data": {
      "text/plain": [
       "[54, 'Borg']"
      ]
     },
     "execution_count": 23,
     "metadata": {},
     "output_type": "execute_result"
    }
   ],
   "source": [
    "cs_people['Anita'][0] = 54\n",
    "cs_people['Anita']"
   ]
  },
  {
   "cell_type": "markdown",
   "metadata": {},
   "source": [
    "#### Problem 4"
   ]
  },
  {
   "cell_type": "code",
   "execution_count": 24,
   "metadata": {},
   "outputs": [
    {
     "name": "stdout",
     "output_type": "stream",
     "text": [
      "Darwin\n",
      "Turing\n",
      "Lovelace\n",
      "Borg\n"
     ]
    },
    {
     "data": {
      "text/plain": [
       "[68.3, 36, 55, 54]"
      ]
     },
     "execution_count": 24,
     "metadata": {},
     "output_type": "execute_result"
    }
   ],
   "source": [
    "ages = []\n",
    "for person in cs_people:\n",
    "    print(cs_people[person][1])\n",
    "    ages.append(cs_people[person][0])\n",
    "ages"
   ]
  },
  {
   "cell_type": "markdown",
   "metadata": {},
   "source": [
    "#### Average of ages"
   ]
  },
  {
   "cell_type": "code",
   "execution_count": null,
   "metadata": {},
   "outputs": [],
   "source": [
    "average = 0\n",
    "counter = 0\n",
    "for age in ages:\n",
    "    average = ((average * counter) + age) / (counter + 1)\n",
    "    counter += 1\n",
    "    \n",
    "\n",
    "print(average)"
   ]
  },
  {
   "cell_type": "markdown",
   "metadata": {},
   "source": [
    "#### Median"
   ]
  },
  {
   "cell_type": "code",
   "execution_count": 26,
   "metadata": {},
   "outputs": [
    {
     "name": "stdout",
     "output_type": "stream",
     "text": [
      "54.5\n"
     ]
    }
   ],
   "source": [
    "changes_this_iteration = 0\n",
    "sort_iter = 0\n",
    "while sort_iter < 20:\n",
    "    changes_this_iteration = 0\n",
    "    for i in range(len(ages) - 1):\n",
    "        if ages[i] > ages[i + 1]:\n",
    "            first = ages[i]\n",
    "            second = ages[i + 1]\n",
    "            ages[i+ 1] = first\n",
    "            ages[i] = second\n",
    "            changes_this_iteration += 1\n",
    "        if changes_this_iteration == 0:\n",
    "            break\n",
    "    sort_iter += 1\n",
    "n = len(ages)\n",
    "if n % 2 == 0: \n",
    "    m = int(n/2)\n",
    "    median = (ages[m - 1] + ages[m]) / 2\n",
    "else:\n",
    "    median = ages[n // 2]\n",
    "print(median)"
   ]
  },
  {
   "cell_type": "code",
   "execution_count": null,
   "metadata": {},
   "outputs": [],
   "source": []
  }
 ],
 "metadata": {
  "kernelspec": {
   "display_name": "Python 3",
   "language": "python",
   "name": "python3"
  },
  "language_info": {
   "codemirror_mode": {
    "name": "ipython",
    "version": 3
   },
   "file_extension": ".py",
   "mimetype": "text/x-python",
   "name": "python",
   "nbconvert_exporter": "python",
   "pygments_lexer": "ipython3",
   "version": "3.6.8"
  }
 },
 "nbformat": 4,
 "nbformat_minor": 2
}
