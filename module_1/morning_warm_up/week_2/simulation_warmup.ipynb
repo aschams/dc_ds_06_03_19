{
 "cells": [
  {
   "cell_type": "code",
   "execution_count": 1,
   "metadata": {},
   "outputs": [],
   "source": [
    "import numpy as np\n",
    "\n",
    "names = ['Posie', 'Isla', 'Olivia', 'Aurora', 'Maeve', 'Cora', 'Amara',\n",
    " 'Ada', 'Amelia', 'Charlotte', 'Emma', 'Ava', 'Corinne', 'Isabella', \n",
    " 'Amelia', 'Mia', 'Evelyn', 'Sophia', 'Harper', 'Milo', 'Jasper', \n",
    " 'Atticus', 'Theodore', 'Asher', 'Silas', 'Jack', 'Finn', 'Henry', \n",
    " 'Felix', 'Liam', 'Noah', 'Logan'] "
   ]
  },
  {
   "cell_type": "code",
   "execution_count": 2,
   "metadata": {},
   "outputs": [
    {
     "data": {
      "text/plain": [
       "0"
      ]
     },
     "execution_count": 2,
     "metadata": {},
     "output_type": "execute_result"
    }
   ],
   "source": [
    "np.random.randint(0,2)"
   ]
  },
  {
   "cell_type": "code",
   "execution_count": 3,
   "metadata": {},
   "outputs": [
    {
     "name": "stdout",
     "output_type": "stream",
     "text": [
      "Noah\n"
     ]
    }
   ],
   "source": [
    "names2= names.copy()\n",
    "while len(names2) > 1:\n",
    "    half_length = len(names2) // 2\n",
    "    names_to_remove = []\n",
    "    for i in range(half_length):\n",
    "        name1 = names2[2*i]\n",
    "        name2 = names2[(2 * i) + 1]\n",
    "        elim = np.random.randint(0,2)\n",
    "        \n",
    "        if elim: names_to_remove.append(name2)\n",
    "        else: names_to_remove.append(name1)\n",
    "        \n",
    "    for name in names_to_remove:\n",
    "        names2.remove(name)\n",
    "print(names2[0])"
   ]
  },
  {
   "cell_type": "code",
   "execution_count": null,
   "metadata": {},
   "outputs": [],
   "source": []
  }
 ],
 "metadata": {
  "kernelspec": {
   "display_name": "Python 3",
   "language": "python",
   "name": "python3"
  },
  "language_info": {
   "codemirror_mode": {
    "name": "ipython",
    "version": 3
   },
   "file_extension": ".py",
   "mimetype": "text/x-python",
   "name": "python",
   "nbconvert_exporter": "python",
   "pygments_lexer": "ipython3",
   "version": "3.6.8"
  }
 },
 "nbformat": 4,
 "nbformat_minor": 2
}
