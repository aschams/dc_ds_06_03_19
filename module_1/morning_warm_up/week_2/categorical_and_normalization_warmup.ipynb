{
 "cells": [
  {
   "cell_type": "code",
   "execution_count": 1,
   "metadata": {},
   "outputs": [],
   "source": [
    "import pandas as pd\n",
    "import numpy as np"
   ]
  },
  {
   "cell_type": "code",
   "execution_count": 2,
   "metadata": {},
   "outputs": [
    {
     "name": "stderr",
     "output_type": "stream",
     "text": [
      "/Users/anthonyschams/anaconda/lib/python3.6/site-packages/ipykernel_launcher.py:5: ParserWarning: Falling back to the 'python' engine because the 'c' engine does not support regex separators (separators > 1 char and different from '\\s+' are interpreted as regex); you can avoid this warning by specifying engine='python'.\n",
      "  \"\"\"\n",
      "/Users/anthonyschams/anaconda/lib/python3.6/site-packages/pandas/io/parsers.py:2230: FutureWarning: split() requires a non-empty pattern match.\n",
      "  yield pat.split(line.strip())\n",
      "/Users/anthonyschams/anaconda/lib/python3.6/site-packages/pandas/io/parsers.py:2232: FutureWarning: split() requires a non-empty pattern match.\n",
      "  yield pat.split(line.strip())\n"
     ]
    }
   ],
   "source": [
    "df = pd.read_csv(\"co2_mm_mlo.txt\", sep = r\"\\s*\", skiprows = 72, \n",
    "                 header = None, \n",
    "                 names = ['Year', 'Month', 'Inferred_Date', \n",
    "                            'CO2_average_ppm', 'Interpolated_CO2_ppm', 'seasonal_trend',\n",
    "                            'days'])"
   ]
  },
  {
   "cell_type": "code",
   "execution_count": 4,
   "metadata": {},
   "outputs": [],
   "source": [
    "df['Day'] = 15\n",
    "df['CO2'] = np.where(df.CO2_average_ppm == -99.99, np.nan, df.CO2_average_ppm)"
   ]
  },
  {
   "cell_type": "code",
   "execution_count": 6,
   "metadata": {},
   "outputs": [],
   "source": [
    "df2 = pd.get_dummies(df, columns=['Year', 'Month'])"
   ]
  },
  {
   "cell_type": "code",
   "execution_count": 7,
   "metadata": {},
   "outputs": [],
   "source": [
    "def normalize_column(df, col_name):\n",
    "    subset = df[col_name]\n",
    "    normalized = (subset - np.mean(subset)) / np.std(subset)\n",
    "    return normalized"
   ]
  },
  {
   "cell_type": "code",
   "execution_count": 9,
   "metadata": {},
   "outputs": [
    {
     "data": {
      "text/plain": [
       "0     -1.393635\n",
       "1     -1.331202\n",
       "2     -1.329408\n",
       "3           NaN\n",
       "4     -1.388253\n",
       "5     -1.421623\n",
       "6     -1.483697\n",
       "7           NaN\n",
       "8     -1.479032\n",
       "9     -1.430952\n",
       "10    -1.396865\n",
       "11    -1.369595\n",
       "12    -1.357754\n",
       "13    -1.321514\n",
       "14    -1.301062\n",
       "15    -1.306085\n",
       "16    -1.363854\n",
       "17    -1.426287\n",
       "18    -1.460733\n",
       "19    -1.481544\n",
       "20    -1.426287\n",
       "21    -1.398300\n",
       "22    -1.367801\n",
       "23    -1.348425\n",
       "24    -1.326538\n",
       "25    -1.274869\n",
       "26    -1.238629\n",
       "27    -1.254417\n",
       "28    -1.305009\n",
       "29    -1.386459\n",
       "         ...   \n",
       "705    1.790456\n",
       "706    1.852171\n",
       "707    1.862577\n",
       "708    1.889847\n",
       "709    1.955150\n",
       "710    1.978473\n",
       "711    1.949409\n",
       "712    1.886259\n",
       "713    1.814855\n",
       "714    1.751704\n",
       "715    1.761033\n",
       "716    1.814496\n",
       "717    1.875135\n",
       "718    1.916399\n",
       "719    1.929316\n",
       "720    1.968426\n",
       "721    1.998208\n",
       "722    2.034089\n",
       "723    2.017942\n",
       "724    1.943310\n",
       "725    1.881594\n",
       "726    1.828490\n",
       "727    1.846072\n",
       "728    1.918552\n",
       "729    1.956227\n",
       "730    2.019378\n",
       "731    2.052388\n",
       "732    2.060282\n",
       "733    2.108722\n",
       "734    2.156802\n",
       "Name: CO2, Length: 735, dtype: float64"
      ]
     },
     "execution_count": 9,
     "metadata": {},
     "output_type": "execute_result"
    }
   ],
   "source": [
    "normalize_column(df, 'CO2')"
   ]
  },
  {
   "cell_type": "code",
   "execution_count": null,
   "metadata": {},
   "outputs": [],
   "source": []
  }
 ],
 "metadata": {
  "kernelspec": {
   "display_name": "Python 3",
   "language": "python",
   "name": "python3"
  },
  "language_info": {
   "codemirror_mode": {
    "name": "ipython",
    "version": 3
   },
   "file_extension": ".py",
   "mimetype": "text/x-python",
   "name": "python",
   "nbconvert_exporter": "python",
   "pygments_lexer": "ipython3",
   "version": "3.6.8"
  }
 },
 "nbformat": 4,
 "nbformat_minor": 2
}
