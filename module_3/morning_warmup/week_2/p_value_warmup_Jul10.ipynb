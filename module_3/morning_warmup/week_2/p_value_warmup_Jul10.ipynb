{
 "cells": [
  {
   "cell_type": "code",
   "execution_count": 1,
   "metadata": {},
   "outputs": [],
   "source": [
    "import numpy as np"
   ]
  },
  {
   "cell_type": "code",
   "execution_count": 2,
   "metadata": {},
   "outputs": [],
   "source": [
    "suits = ['hearts', 'diamonds', 'spades', 'clubs']\n",
    "deck = np.repeat(suits, 13)\n"
   ]
  },
  {
   "cell_type": "code",
   "execution_count": 4,
   "metadata": {},
   "outputs": [],
   "source": [
    "np.random.shuffle(deck)"
   ]
  },
  {
   "cell_type": "code",
   "execution_count": 5,
   "metadata": {},
   "outputs": [
    {
     "data": {
      "text/plain": [
       "array(['spades', 'hearts', 'clubs', 'hearts', 'clubs', 'diamonds',\n",
       "       'spades', 'clubs', 'hearts', 'hearts', 'clubs', 'clubs', 'spades',\n",
       "       'diamonds', 'spades', 'spades', 'spades', 'clubs', 'hearts',\n",
       "       'spades', 'hearts', 'clubs', 'hearts', 'diamonds', 'diamonds',\n",
       "       'diamonds', 'diamonds', 'diamonds', 'clubs', 'clubs', 'clubs',\n",
       "       'spades', 'diamonds', 'diamonds', 'diamonds', 'clubs', 'spades',\n",
       "       'hearts', 'spades', 'diamonds', 'clubs', 'spades', 'hearts',\n",
       "       'diamonds', 'hearts', 'hearts', 'hearts', 'spades', 'spades',\n",
       "       'clubs', 'diamonds', 'hearts'], dtype='<U8')"
      ]
     },
     "execution_count": 5,
     "metadata": {},
     "output_type": "execute_result"
    }
   ],
   "source": [
    "deck"
   ]
  },
  {
   "cell_type": "code",
   "execution_count": 11,
   "metadata": {},
   "outputs": [
    {
     "name": "stdout",
     "output_type": "stream",
     "text": [
      "p_value is 0.0008765778401122019\n"
     ]
    }
   ],
   "source": [
    "full_counter = 0\n",
    "counter = 0\n",
    "while counter < 5:\n",
    "    full_counter += 1\n",
    "    correct_guess = 0\n",
    "    for i in range(20):\n",
    "        card = np.random.choice(deck)\n",
    "        choice = np.random.choice(suits)\n",
    "        if card == choice:\n",
    "            correct_guess += 1\n",
    "    if correct_guess >= 12:\n",
    "        counter += 1\n",
    "p = str(5 / full_counter)\n",
    "print(\"p_value is\", p)"
   ]
  },
  {
   "cell_type": "code",
   "execution_count": null,
   "metadata": {},
   "outputs": [],
   "source": []
  }
 ],
 "metadata": {
  "kernelspec": {
   "display_name": "Python 3",
   "language": "python",
   "name": "python3"
  },
  "language_info": {
   "codemirror_mode": {
    "name": "ipython",
    "version": 3
   },
   "file_extension": ".py",
   "mimetype": "text/x-python",
   "name": "python",
   "nbconvert_exporter": "python",
   "pygments_lexer": "ipython3",
   "version": "3.6.8"
  }
 },
 "nbformat": 4,
 "nbformat_minor": 2
}
