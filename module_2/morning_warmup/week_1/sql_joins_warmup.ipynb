{
 "cells": [
  {
   "cell_type": "code",
   "execution_count": 1,
   "metadata": {},
   "outputs": [],
   "source": [
    "import sqlite3\n",
    "import pandas as pd"
   ]
  },
  {
   "cell_type": "code",
   "execution_count": 2,
   "metadata": {},
   "outputs": [],
   "source": [
    "conn = sqlite3.connect('cats.db')\n",
    "conn2 = sqlite3.connect('dogs.db')\n",
    "c = conn.cursor()\n",
    "c2 = conn2.cursor()"
   ]
  },
  {
   "cell_type": "code",
   "execution_count": 4,
   "metadata": {},
   "outputs": [
    {
     "data": {
      "text/plain": [
       "[('Bell', 'Siamese', '1', '4'),\n",
       " ('Jackson', 'Balinese', '2', '3'),\n",
       " ('Precious', 'Himalayan', '3', '4'),\n",
       " ('Rocky', 'Egyptian Mau', '4', '2'),\n",
       " ('Samson', 'Javanese', '5', '1'),\n",
       " ('', '', '', ''),\n",
       " ('', '', '', ''),\n",
       " ('', '', '', ''),\n",
       " ('', '', '', ''),\n",
       " ('', '', '', ''),\n",
       " ('', '', '', ''),\n",
       " ('', '', '', ''),\n",
       " ('', '', '', ''),\n",
       " ('', '', '', ''),\n",
       " ('', '', '', ''),\n",
       " ('', '', '', ''),\n",
       " ('', '', '', ''),\n",
       " ('', '', '', ''),\n",
       " ('', '', '', ''),\n",
       " ('', '', '', ''),\n",
       " ('', '', '', None)]"
      ]
     },
     "execution_count": 4,
     "metadata": {},
     "output_type": "execute_result"
    }
   ],
   "source": [
    "c.execute('''SELECT * \n",
    "             FROM cats''').fetchall()"
   ]
  },
  {
   "cell_type": "code",
   "execution_count": null,
   "metadata": {},
   "outputs": [],
   "source": []
  }
 ],
 "metadata": {
  "kernelspec": {
   "display_name": "Python 3",
   "language": "python",
   "name": "python3"
  },
  "language_info": {
   "codemirror_mode": {
    "name": "ipython",
    "version": 3
   },
   "file_extension": ".py",
   "mimetype": "text/x-python",
   "name": "python",
   "nbconvert_exporter": "python",
   "pygments_lexer": "ipython3",
   "version": "3.6.8"
  }
 },
 "nbformat": 4,
 "nbformat_minor": 2
}
